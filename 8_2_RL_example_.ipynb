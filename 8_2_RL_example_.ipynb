{
  "nbformat": 4,
  "nbformat_minor": 0,
  "metadata": {
    "kernelspec": {
      "display_name": "Python 3",
      "language": "python",
      "name": "python3"
    },
    "language_info": {
      "codemirror_mode": {
        "name": "ipython",
        "version": 3
      },
      "file_extension": ".py",
      "mimetype": "text/x-python",
      "name": "python",
      "nbconvert_exporter": "python",
      "pygments_lexer": "ipython3",
      "version": "3.7.3"
    },
    "colab": {
      "provenance": [],
      "include_colab_link": true
    }
  },
  "cells": [
    {
      "cell_type": "markdown",
      "metadata": {
        "id": "view-in-github",
        "colab_type": "text"
      },
      "source": [
        "<a href=\"https://colab.research.google.com/github/pro-jain/Trend-Swipe-Yah-or-Nah/blob/main/8_2_RL_example_.ipynb\" target=\"_parent\"><img src=\"https://colab.research.google.com/assets/colab-badge.svg\" alt=\"Open In Colab\"/></a>"
      ]
    },
    {
      "cell_type": "markdown",
      "metadata": {
        "id": "4fs0s9aaUtUK"
      },
      "source": [
        "# Reinfocement Learning  Example :PathFinder Bot\n",
        "\n",
        "Suppose we have 5 rooms A to E, in a building connected by certain doors :\n",
        "We  can  consider  outside  of  the  building  as  one  big  room  say  F  to  cover the building.\n",
        "There are two doors lead to the building from F, that is through room B and room E.\n",
        "\n",
        "\n",
        "![title](RL_problem.png)\n",
        "\n",
        "Which path agent should choose???\n",
        "\n"
      ]
    },
    {
      "cell_type": "markdown",
      "metadata": {
        "id": "4VYpD-ZoUtUM"
      },
      "source": [
        "# Step 1: Modeling the environment-\n",
        "\n",
        "- Represent the rooms by graph,\n",
        "- Each room as a vertex (or node) and\n",
        "- Each door as an edge (or link).\n",
        "- Goal room is the node F\n",
        "![image.png](RL1.png)\n",
        "\n",
        "\n"
      ]
    },
    {
      "cell_type": "markdown",
      "metadata": {
        "id": "C4PrJJLLUtUM"
      },
      "source": [
        "Goal :  Outside the building : Node F\n",
        "Assign Reward Value to each room  \n",
        "\n",
        "State:  Each room (including outside building )\n",
        "\n",
        "Action : Agent’s Movement from 1 room to next room\n",
        "\n",
        "Initial state : C (random )\n",
        "\n",
        "Reward: Goal Node :highest reward (100)  rest – 0;\n",
        "\n",
        "State Diagram\n",
        "![image.png](RL2.png)\n",
        "\n",
        "\n",
        "![title](RL_image.png)"
      ]
    },
    {
      "cell_type": "code",
      "metadata": {
        "id": "92ZGnxPBUtUN"
      },
      "source": [
        "import numpy as np"
      ],
      "execution_count": 1,
      "outputs": []
    },
    {
      "cell_type": "code",
      "metadata": {
        "id": "MrELJsg5UtUN",
        "outputId": "7fc0a2eb-55ca-4fcb-b177-0408414a1147",
        "colab": {
          "base_uri": "https://localhost:8080/"
        }
      },
      "source": [
        "# R matrix\n",
        "\n",
        "Rewards = np.matrix([\n",
        "    [0,0,0,0,-1,1],[0,0,0,0,0,1],[0,0,0,0,0,0],[0,-1,-1,0,0,1],[0,0,0,-1,0,1],[0,0,0,0,0,0]\n",
        "                     ])\n",
        "\n",
        "Rewards"
      ],
      "execution_count": 4,
      "outputs": [
        {
          "output_type": "execute_result",
          "data": {
            "text/plain": [
              "matrix([[ 0,  0,  0,  0, -1,  1],\n",
              "        [ 0,  0,  0,  0,  0,  1],\n",
              "        [ 0,  0,  0,  0,  0,  0],\n",
              "        [ 0, -1, -1,  0,  0,  1],\n",
              "        [ 0,  0,  0, -1,  0,  1],\n",
              "        [ 0,  0,  0,  0,  0,  0]])"
            ]
          },
          "metadata": {},
          "execution_count": 4
        }
      ]
    },
    {
      "cell_type": "code",
      "metadata": {
        "id": "SoC33jioUtUO",
        "outputId": "274c7876-e9db-40c2-ee32-6ff325169b1e",
        "colab": {
          "base_uri": "https://localhost:8080/"
        }
      },
      "source": [
        "# Q matrix: zero matrix  of size same as R matrix\n",
        "\n",
        "Q = np.matrix(np.zeros([6,6]))\n",
        "Q"
      ],
      "execution_count": 5,
      "outputs": [
        {
          "output_type": "execute_result",
          "data": {
            "text/plain": [
              "matrix([[0., 0., 0., 0., 0., 0.],\n",
              "        [0., 0., 0., 0., 0., 0.],\n",
              "        [0., 0., 0., 0., 0., 0.],\n",
              "        [0., 0., 0., 0., 0., 0.],\n",
              "        [0., 0., 0., 0., 0., 0.],\n",
              "        [0., 0., 0., 0., 0., 0.]])"
            ]
          },
          "metadata": {},
          "execution_count": 5
        }
      ]
    },
    {
      "cell_type": "code",
      "metadata": {
        "id": "rh9-vccSUtUP"
      },
      "source": [
        "# Gamma (learning parameter).\n",
        "gamma = 0.8"
      ],
      "execution_count": 6,
      "outputs": []
    },
    {
      "cell_type": "code",
      "metadata": {
        "id": "HKcj9jfpUtUP"
      },
      "source": [
        "# Initial state. (Usually to be chosen at random)\n",
        "initial_state = 1\n",
        "\n",
        "# Write your Code to choose random State"
      ],
      "execution_count": 7,
      "outputs": []
    },
    {
      "cell_type": "code",
      "metadata": {
        "id": "inEcrplNUtUP"
      },
      "source": [
        "# This function returns all available actions in the state given as an argument\n",
        "def available_actions(state):\n",
        "    current_state_row = Rewards[state,]\n",
        "    av_act = np.where(current_state_row >= 0)[1]\n",
        "    return av_act"
      ],
      "execution_count": 8,
      "outputs": []
    },
    {
      "cell_type": "code",
      "metadata": {
        "id": "V5P8hWERUtUQ"
      },
      "source": [
        "# Get available actions in the current state\n",
        "available_act = available_actions(initial_state)"
      ],
      "execution_count": 9,
      "outputs": []
    },
    {
      "cell_type": "code",
      "metadata": {
        "id": "hjU3aQTgUtUQ"
      },
      "source": [
        "# This function chooses at random which action to be performed within the range\n",
        "# of all the available actions.\n",
        "def sample_next_action(available_actions_range):\n",
        "    next_action = int(np.random.choice(available_act,1))\n",
        "    return next_action"
      ],
      "execution_count": 10,
      "outputs": []
    },
    {
      "cell_type": "code",
      "metadata": {
        "id": "5FfDObSgUtUQ",
        "outputId": "386efc65-d4b0-4e53-af5e-178b860f9b18",
        "colab": {
          "base_uri": "https://localhost:8080/"
        }
      },
      "source": [
        "# Sample next action to be performed\n",
        "action = sample_next_action(available_act)"
      ],
      "execution_count": 11,
      "outputs": [
        {
          "output_type": "stream",
          "name": "stderr",
          "text": [
            "<ipython-input-10-b40dc4f18bf8>:4: DeprecationWarning: Conversion of an array with ndim > 0 to a scalar is deprecated, and will error in future. Ensure you extract a single element from your array before performing this operation. (Deprecated NumPy 1.25.)\n",
            "  next_action = int(np.random.choice(available_act,1))\n"
          ]
        }
      ]
    },
    {
      "cell_type": "code",
      "metadata": {
        "id": "YLGugZ2SUtUQ",
        "outputId": "8d6c9117-ab28-44e9-e6e0-123584889920",
        "colab": {
          "base_uri": "https://localhost:8080/"
        }
      },
      "source": [
        "# This function updates the Q matrix according to the path selected and the Q\n",
        "# learning algorithm\n",
        "def update(current_state, action, gamma):\n",
        "\n",
        "    max_index = np.where(Q[action,] == np.max(Q[action,]))[1]\n",
        "\n",
        "    if max_index.shape[0] > 1:\n",
        "        max_index = int(np.random.choice(max_index, size = 1))\n",
        "    else:\n",
        "        max_index = int(max_index)\n",
        "    max_value = Q[action, max_index]\n",
        "\n",
        "    # Q learning formula\n",
        "    Q[current_state, action] = Rewards[current_state, action] + gamma * max_value\n",
        "\n",
        "# Update Q matrix\n",
        "update(initial_state,action,gamma)"
      ],
      "execution_count": 13,
      "outputs": [
        {
          "output_type": "stream",
          "name": "stderr",
          "text": [
            "<ipython-input-13-15ea1a1dcf4c>:8: DeprecationWarning: Conversion of an array with ndim > 0 to a scalar is deprecated, and will error in future. Ensure you extract a single element from your array before performing this operation. (Deprecated NumPy 1.25.)\n",
            "  max_index = int(np.random.choice(max_index, size = 1))\n"
          ]
        }
      ]
    },
    {
      "cell_type": "code",
      "metadata": {
        "id": "Ruy8TsG3UtUR",
        "outputId": "6f2e75b2-c344-4492-f6ae-d858a913b545",
        "colab": {
          "base_uri": "https://localhost:8080/"
        }
      },
      "source": [
        "def sample_next_action(available_act, epsilon=0.1):\n",
        "    if np.random.rand() < epsilon:  # Exploration\n",
        "        action = np.random.choice(available_act)\n",
        "    else:  # Exploitation\n",
        "        q_values = [Q[available_act[i], available_act[i]] for i in range(len(available_act))]\n",
        "        action = available_act[np.argmax(q_values)]\n",
        "    return action\n",
        "\n",
        "# Train over 10,000 iterations\n",
        "for i in range(10000):\n",
        "    current_state = np.random.randint(0, int(Q.shape[0]))  # Randomly pick a state\n",
        "    available_act = available_actions(current_state)  # Get available actions for the current state\n",
        "    action = sample_next_action(available_act)  # Pick the next action based on epsilon-greedy\n",
        "    score = update(current_state, action, gamma)  # Update Q matrix with the chosen action\n",
        "\n",
        "# The \"trained\" Q matrix\n",
        "print(\"The Trained Q matrix:\")\n",
        "print(Q)\n",
        "\n",
        "# Normalize the \"trained\" Q matrix\n",
        "print(\"Trained Normalized Q matrix:\")\n",
        "Q_nor = (Q - np.min(Q)) / (np.max(Q) - np.min(Q))  # Min-Max normalization\n",
        "print(Q_nor)\n"
      ],
      "execution_count": 14,
      "outputs": [
        {
          "output_type": "stream",
          "name": "stderr",
          "text": [
            "<ipython-input-13-15ea1a1dcf4c>:8: DeprecationWarning: Conversion of an array with ndim > 0 to a scalar is deprecated, and will error in future. Ensure you extract a single element from your array before performing this operation. (Deprecated NumPy 1.25.)\n",
            "  max_index = int(np.random.choice(max_index, size = 1))\n",
            "<ipython-input-13-15ea1a1dcf4c>:10: DeprecationWarning: Conversion of an array with ndim > 0 to a scalar is deprecated, and will error in future. Ensure you extract a single element from your array before performing this operation. (Deprecated NumPy 1.25.)\n",
            "  max_index = int(max_index)\n"
          ]
        },
        {
          "output_type": "stream",
          "name": "stdout",
          "text": [
            "The Trained Q matrix:\n",
            "[[2.22222222 2.22222222 1.77777778 2.22222222 0.         2.77777778]\n",
            " [2.22222222 2.22222222 1.77777778 2.22222222 2.22222222 2.77777778]\n",
            " [2.22222222 2.22222222 1.77777778 2.22222222 2.22222222 1.77777778]\n",
            " [2.22222222 0.         0.         2.22222222 2.22222222 2.77777778]\n",
            " [2.22222222 2.22222222 1.77777778 0.         2.22222222 2.77777778]\n",
            " [2.22222222 2.22222222 1.77777778 2.22222222 2.22222222 1.77777778]]\n",
            "Trained Normalized Q matrix:\n",
            "[[0.8  0.8  0.64 0.8  0.   1.  ]\n",
            " [0.8  0.8  0.64 0.8  0.8  1.  ]\n",
            " [0.8  0.8  0.64 0.8  0.8  0.64]\n",
            " [0.8  0.   0.   0.8  0.8  1.  ]\n",
            " [0.8  0.8  0.64 0.   0.8  1.  ]\n",
            " [0.8  0.8  0.64 0.8  0.8  0.64]]\n"
          ]
        }
      ]
    },
    {
      "cell_type": "code",
      "metadata": {
        "id": "uiAKQqdUUtUR",
        "outputId": "ef57c6b4-c80e-4a98-ac00-ccca5415721b",
        "colab": {
          "base_uri": "https://localhost:8080/"
        }
      },
      "source": [
        "#-------------------------------------------------------------------------------\n",
        "# Testing\n",
        "\n",
        "#STATES = [A,B,C,D,E,F]\n",
        "#nO_State=[0,1,2,3,4,5]\n",
        "\n",
        "# Goal state = 5\n",
        "# Best sequence path starting from 2 -> 2, 3, 1, 5\n",
        "\n",
        "current_state = 2\n",
        "steps = [current_state]\n",
        "\n",
        "while current_state != 5:\n",
        "\n",
        "    next_step_index = np.where(Q[current_state,] == np.max(Q[current_state,]))[1]\n",
        "\n",
        "    if next_step_index.shape[0] > 1:\n",
        "        next_step_index = int(np.random.choice(next_step_index, size = 1))\n",
        "    else:\n",
        "        next_step_index = int(next_step_index)\n",
        "\n",
        "    steps.append(next_step_index)\n",
        "    current_state = next_step_index"
      ],
      "execution_count": 15,
      "outputs": [
        {
          "output_type": "stream",
          "name": "stderr",
          "text": [
            "<ipython-input-15-b473c09bc87c>:20: DeprecationWarning: Conversion of an array with ndim > 0 to a scalar is deprecated, and will error in future. Ensure you extract a single element from your array before performing this operation. (Deprecated NumPy 1.25.)\n",
            "  next_step_index = int(next_step_index)\n"
          ]
        }
      ]
    },
    {
      "cell_type": "code",
      "metadata": {
        "id": "owSTVuvUUtUT",
        "outputId": "5a6cf925-8c3e-431d-d117-1de029089fd8",
        "colab": {
          "base_uri": "https://localhost:8080/"
        }
      },
      "source": [
        "# Print selected sequence of steps\n",
        "print(\"Selected path:\")\n",
        "\n",
        "# Start from a random state\n",
        "current_state = np.random.randint(0, int(Q.shape[0]))\n",
        "\n",
        "# Initialize a list to store the selected path\n",
        "path = [current_state]\n",
        "\n",
        "# Define a limit for the number of steps (you can set this as needed)\n",
        "step_limit = 10\n",
        "\n",
        "for _ in range(step_limit):\n",
        "    # Choose the best action based on the current Q values (greedy choice)\n",
        "    available_act = available_actions(current_state)\n",
        "\n",
        "    # Choose the action with the highest Q-value\n",
        "    action = available_act[np.argmax([Q[current_state, act] for act in available_act])]\n",
        "\n",
        "    # Move to the next state based on the chosen action\n",
        "    current_state = action\n",
        "\n",
        "    # Add the current state to the path\n",
        "    path.append(current_state)\n",
        "\n",
        "# Print the sequence of states (path)\n",
        "print(path)\n"
      ],
      "execution_count": 16,
      "outputs": [
        {
          "output_type": "stream",
          "name": "stdout",
          "text": [
            "Selected path:\n",
            "[4, np.int64(5), np.int64(3), np.int64(5), np.int64(3), np.int64(5), np.int64(3), np.int64(5), np.int64(3), np.int64(5), np.int64(3)]\n"
          ]
        }
      ]
    },
    {
      "cell_type": "markdown",
      "metadata": {
        "id": "F5HFBudtUtUT"
      },
      "source": [
        "![image.png](RL_prob.png)\n"
      ]
    },
    {
      "cell_type": "code",
      "metadata": {
        "id": "OUGCoSUNUtUT"
      },
      "source": [],
      "execution_count": null,
      "outputs": []
    }
  ]
}